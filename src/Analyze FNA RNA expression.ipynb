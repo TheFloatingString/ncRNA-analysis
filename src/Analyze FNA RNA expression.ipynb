{
 "cells": [
  {
   "cell_type": "code",
   "execution_count": 1,
   "metadata": {},
   "outputs": [],
   "source": [
    "FILEPATH = \"../data/GRCh38_latest_rna.fna\""
   ]
  },
  {
   "cell_type": "code",
   "execution_count": 38,
   "metadata": {},
   "outputs": [],
   "source": [
    "\n",
    "from Bio import SeqIO\n",
    "\n",
    "counter = 0\n",
    "ids = list()\n",
    "all_ids = list()\n",
    "\n",
    "for record in SeqIO.parse(FILEPATH, \"fasta\"):\n",
    "    if str(record.id)[:2]==\"NR\":\n",
    "        ids.append(record.id)\n",
    "#     print(str(record.id)[:2])\n",
    "    all_ids.append(str(record.id)[:2])\n",
    "    \n",
    "    "
   ]
  },
  {
   "cell_type": "code",
   "execution_count": null,
   "metadata": {},
   "outputs": [],
   "source": []
  },
  {
   "cell_type": "code",
   "execution_count": 40,
   "metadata": {},
   "outputs": [
    {
     "name": "stdout",
     "output_type": "stream",
     "text": [
      "16653\n",
      "{'NR', 'XM', 'NM', 'XR'}\n",
      "159054\n"
     ]
    }
   ],
   "source": [
    "print(len(ids))\n",
    "print(set(all_ids))\n",
    "print(len(all_ids))"
   ]
  }
 ],
 "metadata": {
  "kernelspec": {
   "display_name": "Python 3",
   "language": "python",
   "name": "python3"
  },
  "language_info": {
   "codemirror_mode": {
    "name": "ipython",
    "version": 3
   },
   "file_extension": ".py",
   "mimetype": "text/x-python",
   "name": "python",
   "nbconvert_exporter": "python",
   "pygments_lexer": "ipython3",
   "version": "3.6.4"
  }
 },
 "nbformat": 4,
 "nbformat_minor": 2
}
